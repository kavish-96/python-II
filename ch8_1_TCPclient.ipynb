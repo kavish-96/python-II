{
 "cells": [
  {
   "cell_type": "code",
   "execution_count": null,
   "metadata": {},
   "outputs": [
    {
     "name": "stdout",
     "output_type": "stream",
     "text": [
      "410c-154\n",
      "enter request:gian hein aap?\n",
      "recieved data: nahi\n",
      "enter request:toh kya hein aap?\n",
      "recieved data: oye, papa hu mein puri duniya ka papa\n",
      "enter request:sahi hai\n"
     ]
    }
   ],
   "source": [
    "# # TCP client\n",
    "\n",
    "# import socket\n",
    "\n",
    "# host = socket.gethostname()\n",
    "# print(host)\n",
    "# port = 5396\n",
    "# addr = (host,port)\n",
    "# client_socket = socket.socket()\n",
    "# client_socket.connect(addr)\n",
    "# msg = input(\"enter request:\")\n",
    "\n",
    "# while msg!=\"\" :\n",
    "#     client_socket.send(msg.encode())\n",
    "#     data = client_socket.recv(1024)\n",
    "#     print(\"recieved data:\",data.decode())\n",
    "#     msg = input(\"enter request:\")\n",
    "    \n",
    "# client_socket.close()"
   ]
  },
  {
   "cell_type": "code",
   "execution_count": 1,
   "metadata": {},
   "outputs": [
    {
     "name": "stdout",
     "output_type": "stream",
     "text": [
      "192.168.107.155\n",
      "enter request:2\n",
      "recieved data: jhv\n",
      "enter request:3\n",
      "recieved data: now for 69\n",
      "enter request:69\n",
      "recieved data: Thank You!\n",
      "enter request:\n"
     ]
    }
   ],
   "source": [
    "# TCP client to other pc\n",
    "\n",
    "import socket\n",
    "\n",
    "host = \"192.168.107.155\"\n",
    "print(host)\n",
    "port = 5936\n",
    "addr = (host,port)\n",
    "client_socket = socket.socket()\n",
    "client_socket.connect(addr)\n",
    "msg = input(\"enter request:\")\n",
    "\n",
    "while msg!=\"\" :\n",
    "    client_socket.send(msg.encode())\n",
    "    data = client_socket.recv(1024)\n",
    "    print(\"recieved data:\",data.decode())\n",
    "    msg = input(\"enter request:\")\n",
    "    \n",
    "client_socket.close()"
   ]
  },
  {
   "cell_type": "code",
   "execution_count": null,
   "metadata": {},
   "outputs": [],
   "source": []
  }
 ],
 "metadata": {
  "kernelspec": {
   "display_name": "Python 3",
   "language": "python",
   "name": "python3"
  },
  "language_info": {
   "codemirror_mode": {
    "name": "ipython",
    "version": 3
   },
   "file_extension": ".py",
   "mimetype": "text/x-python",
   "name": "python",
   "nbconvert_exporter": "python",
   "pygments_lexer": "ipython3",
   "version": "3.8.5"
  }
 },
 "nbformat": 4,
 "nbformat_minor": 4
}
