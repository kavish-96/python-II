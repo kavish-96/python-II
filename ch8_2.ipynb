{
 "cells": [
  {
   "cell_type": "code",
   "execution_count": null,
   "metadata": {},
   "outputs": [
    {
     "name": "stdout",
     "output_type": "stream",
     "text": [
      "Access http://localhost:9250\n"
     ]
    }
   ],
   "source": [
    "## http server\n",
    "\n",
    "from socket import *\n",
    "\n",
    "def createserver() :\n",
    "    serversocket = socket()\n",
    "    serversocket.bind((\"localhost\",9250))\n",
    "    serversocket.listen()\n",
    "    \n",
    "    while(1) :\n",
    "        (clientsocket,address) = serversocket.accept()\n",
    "        rd = clientsocket.recv(5000).decode()\n",
    "        data = \"\"\"HTTP/1.1 200 OK\\nContent-Type:text/html;\n",
    "        charset=utf-8\\n\\n<html><body><h1>hello world</h1></body></html>\\n\\n\"\"\"\n",
    "        clientsocket.send(data.encode())\n",
    "        \n",
    "    serversocket.close()\n",
    "    \n",
    "print(\"Access http://localhost:9250\")\n",
    "createserver()\n",
    "\n"
   ]
  },
  {
   "cell_type": "code",
   "execution_count": 11,
   "metadata": {},
   "outputs": [
    {
     "name": "stdout",
     "output_type": "stream",
     "text": [
      "enter city name:Ahmedabad\n",
      "[{'name': 'Ahmedabad', 'local_names': {'en': 'Ahmedabad', 'mr': 'अहमदाबाद', 'pa': 'ਅਹਿਮਦਾਬਾਦ', 'eo': 'Ahmadabado', 'ja': 'アフマダーバード', 'ru': 'Ахмадабад', 'gu': 'અમદાવાદ', 'ta': 'அகமதாபாத்', 'pl': 'Ahmadabad', 'ascii': 'Ahmedabad', 'ar': 'أحمد آباد', 'de': 'Ahmedabad', 'ur': 'احمد آباد', 'or': 'ଅହମଦାବାଦ', 'uk': 'Ахмедабад', 'oc': 'Ahmadabad', 'te': 'అహ్మదాబాద్', 'ml': 'അഹമ്മദാബാദ്', 'kn': 'ಅಹ್ಮದಾಬಾದ್', 'zh': '艾哈迈达巴德', 'hi': 'अहमदाबाद', 'cs': 'Ahmadábád', 'feature_name': 'Ahmedabad', 'he': 'אחמדאבאד'}, 'lat': 23.0216238, 'lon': 72.5797068, 'country': 'IN', 'state': 'Gujarat'}]\n"
     ]
    }
   ],
   "source": [
    "### API\n",
    "\n",
    "import requests,json\n",
    "\n",
    "city = input(\"enter city name:\")\n",
    "api_key = \"958de07c8871876752393f8547d05500\"\n",
    "\n",
    "url = f\"http://api.openweathermap.org/geo/1.0/direct?q={city}&appid={api_key}\"\n",
    "response = requests.get(url)\n",
    "coordinates = response.json()\n",
    "print(coordinates)\n",
    "# lat = 34.0901\n",
    "# lon = -118.4065\n",
    "# print(\"latitude=\",lat,\"longitude=\",lon)"
   ]
  },
  {
   "cell_type": "code",
   "execution_count": 32,
   "metadata": {},
   "outputs": [
    {
     "name": "stdout",
     "output_type": "stream",
     "text": [
      "{\n",
      "     \"coord\": {\n",
      "          \"lon\": 72.5797,\n",
      "          \"lat\": 23.0216\n",
      "     },\n",
      "     \"weather\": [\n",
      "          {\n",
      "               \"id\": 800,\n",
      "               \"main\": \"Clear\",\n",
      "               \"description\": \"clear sky\",\n",
      "               \"icon\": \"01d\"\n",
      "          }\n",
      "     ],\n",
      "     \"base\": \"stations\",\n",
      "     \"main\": {\n",
      "          \"temp\": 40.05,\n",
      "          \"feels_like\": 40.44,\n",
      "          \"temp_min\": 40.05,\n",
      "          \"temp_max\": 40.05,\n",
      "          \"pressure\": 998,\n",
      "          \"humidity\": 23,\n",
      "          \"sea_level\": 998,\n",
      "          \"grnd_level\": 992\n",
      "     },\n",
      "     \"visibility\": 10000,\n",
      "     \"wind\": {\n",
      "          \"speed\": 6.11,\n",
      "          \"deg\": 248,\n",
      "          \"gust\": 7.33\n",
      "     },\n",
      "     \"clouds\": {\n",
      "          \"all\": 6\n",
      "     },\n",
      "     \"dt\": 1748589102,\n",
      "     \"sys\": {\n",
      "          \"country\": \"IN\",\n",
      "          \"sunrise\": 1748564661,\n",
      "          \"sunset\": 1748613024\n",
      "     },\n",
      "     \"timezone\": 19800,\n",
      "     \"id\": 1279233,\n",
      "     \"name\": \"Ahmedabad\",\n",
      "     \"cod\": 200\n",
      "}\n",
      "Temperature= 40.05\n"
     ]
    }
   ],
   "source": [
    "import requests,json\n",
    "\n",
    "api_key = \"958de07c8871876752393f8547d05500\"\n",
    "\n",
    "lat = 23.0216238\n",
    "lon = 72.5797068\n",
    "url=f\"https://api.openweathermap.org/data/2.5/weather?lat={lat}&lon={lon}&appid={api_key}&units=metric\"\n",
    "response = requests.get(url)\n",
    "current_weather = response.json()\n",
    "print(json.dumps(current_weather,indent=5))\n",
    "print(\"Temperature=\",current_weather['main']['temp'])"
   ]
  },
  {
   "cell_type": "code",
   "execution_count": 33,
   "metadata": {},
   "outputs": [
    {
     "name": "stdout",
     "output_type": "stream",
     "text": [
      "{'coord': {'lon': 72.5797, 'lat': 23.0216}, 'list': [{'main': {'aqi': 4}, 'components': {'co': 102.15, 'no': 0.11, 'no2': 0.79, 'o3': 93.13, 'so2': 1.86, 'pm2_5': 31.6, 'pm10': 132.92, 'nh3': 0.42}, 'dt': 1748589672}]}\n"
     ]
    }
   ],
   "source": [
    "import requests,json\n",
    "\n",
    "api_key = \"958de07c8871876752393f8547d05500\"\n",
    "\n",
    "lat = 23.0216238\n",
    "lon = 72.5797068\n",
    "\n",
    "url = f\"http://api.openweathermap.org/data/2.5/air_pollution?lat={lat}&lon={lon}&appid={api_key}\"\n",
    "response = requests.get(url)\n",
    "current_weather = response.json()\n",
    "\n",
    "print(current_weather)"
   ]
  },
  {
   "cell_type": "code",
   "execution_count": 37,
   "metadata": {},
   "outputs": [
    {
     "name": "stdout",
     "output_type": "stream",
     "text": [
      "              date_time    temp       description\n",
      "0   2025-05-30 09:00:00  312.96        few clouds\n",
      "1   2025-05-30 12:00:00  313.95        few clouds\n",
      "2   2025-05-30 15:00:00  308.33  scattered clouds\n",
      "3   2025-05-30 18:00:00  306.34        few clouds\n",
      "4   2025-05-30 21:00:00  303.60        few clouds\n",
      "5   2025-05-31 00:00:00  302.15  scattered clouds\n",
      "6   2025-05-31 03:00:00  304.19        few clouds\n",
      "7   2025-05-31 06:00:00  310.37  scattered clouds\n",
      "8   2025-05-31 09:00:00  314.81        few clouds\n",
      "9   2025-05-31 12:00:00  314.21        few clouds\n",
      "10  2025-05-31 15:00:00  309.65  scattered clouds\n",
      "11  2025-05-31 18:00:00  305.36     broken clouds\n",
      "12  2025-05-31 21:00:00  302.41   overcast clouds\n",
      "13  2025-06-01 00:00:00  301.46     broken clouds\n",
      "14  2025-06-01 03:00:00  303.61         clear sky\n",
      "15  2025-06-01 06:00:00  309.60         clear sky\n",
      "16  2025-06-01 09:00:00  313.38  scattered clouds\n",
      "17  2025-06-01 12:00:00  312.77        few clouds\n",
      "18  2025-06-01 15:00:00  308.60     broken clouds\n",
      "19  2025-06-01 18:00:00  305.03     broken clouds\n",
      "20  2025-06-01 21:00:00  303.76        few clouds\n",
      "21  2025-06-02 00:00:00  302.91        few clouds\n",
      "22  2025-06-02 03:00:00  304.64         clear sky\n",
      "23  2025-06-02 06:00:00  305.23  scattered clouds\n",
      "24  2025-06-02 09:00:00  311.84     broken clouds\n",
      "25  2025-06-02 12:00:00  309.68  scattered clouds\n",
      "26  2025-06-02 15:00:00  307.33  scattered clouds\n",
      "27  2025-06-02 18:00:00  302.48        light rain\n",
      "28  2025-06-02 21:00:00  303.62   overcast clouds\n",
      "29  2025-06-03 00:00:00  302.28   overcast clouds\n",
      "30  2025-06-03 03:00:00  305.06  scattered clouds\n",
      "31  2025-06-03 06:00:00  308.60     broken clouds\n",
      "32  2025-06-03 09:00:00  313.03         clear sky\n",
      "33  2025-06-03 12:00:00  310.44        few clouds\n",
      "34  2025-06-03 15:00:00  305.28     broken clouds\n",
      "35  2025-06-03 18:00:00  306.38     broken clouds\n",
      "36  2025-06-03 21:00:00  304.22     broken clouds\n",
      "37  2025-06-04 00:00:00  302.67  scattered clouds\n",
      "38  2025-06-04 03:00:00  304.37         clear sky\n",
      "39  2025-06-04 06:00:00  309.07         clear sky\n"
     ]
    }
   ],
   "source": [
    "import requests,json\n",
    "\n",
    "api_key = \"958de07c8871876752393f8547d05500\"\n",
    "\n",
    "lat = 23.0216238\n",
    "lon = 72.5797068\n",
    "\n",
    "url = f\"http://api.openweathermap.org/data/2.5/forecast?lat={lat}&lon={lon}&appid={api_key}\"\n",
    "response = requests.get(url)\n",
    "five_days = response.json()\n",
    "\n",
    "D = {'date_time':[], \"temp\":[], 'description':[]}\n",
    "\n",
    "for i in five_days['list'] :\n",
    "    D['date_time'].append(i[\"dt_txt\"])\n",
    "    D['temp'].append(i['main']['temp'])\n",
    "    D['description'].append(i['weather'][0]['description'])\n",
    "    \n",
    "import pandas as pd\n",
    "\n",
    "df = pd.DataFrame(D)\n",
    "print(df)"
   ]
  },
  {
   "cell_type": "code",
   "execution_count": 34,
   "metadata": {},
   "outputs": [
    {
     "name": "stdout",
     "output_type": "stream",
     "text": [
      "/home/user/Pictures\n"
     ]
    }
   ],
   "source": [
    "# leetcode-71\n",
    "\n",
    "import re\n",
    "# path = \"/home//foo/\"\n",
    "path = \"/home/user/Documents/../Pictures\"\n",
    "# path = \"/../\"\n",
    "# path = \"/.../a/../b/c/../d/./\"\n",
    "\n",
    "if path[-1]==\"/\" :\n",
    "    l = re.split(\"/+\",path[1:-1])\n",
    "else :\n",
    "    l = re.split(\"/+\",path[1::])\n",
    "# print(l)\n",
    "\n",
    "stack = []\n",
    "\n",
    "for i in l :\n",
    "    if i==\"..\" :\n",
    "        if len(stack) == 0:\n",
    "            continue\n",
    "        stack.pop()\n",
    "        continue\n",
    "    \n",
    "    if i==\".\" :\n",
    "        continue\n",
    "    stack.append(i)\n",
    "\n",
    "ans=\"/\"\n",
    "for i in stack :\n",
    "    ans+=i+\"/\"\n",
    "    \n",
    "print(ans if len(ans)==1 else ans[:-1])"
   ]
  },
  {
   "cell_type": "code",
   "execution_count": null,
   "metadata": {},
   "outputs": [],
   "source": []
  }
 ],
 "metadata": {
  "kernelspec": {
   "display_name": "Python 3",
   "language": "python",
   "name": "python3"
  },
  "language_info": {
   "codemirror_mode": {
    "name": "ipython",
    "version": 3
   },
   "file_extension": ".py",
   "mimetype": "text/x-python",
   "name": "python",
   "nbconvert_exporter": "python",
   "pygments_lexer": "ipython3",
   "version": "3.8.5"
  }
 },
 "nbformat": 4,
 "nbformat_minor": 4
}
