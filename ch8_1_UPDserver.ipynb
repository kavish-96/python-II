{
 "cells": [
  {
   "cell_type": "code",
   "execution_count": null,
   "metadata": {},
   "outputs": [
    {
     "name": "stdout",
     "output_type": "stream",
     "text": [
      "waiting for message\n",
      "recieved data :  hello  from  ('127.0.0.1', 64709)\n",
      "enter response : kaam kar\n",
      "waiting for message\n",
      "recieved data :  jati rehje  from  ('127.0.0.1', 64709)\n",
      "enter response : chal chal ave\n",
      "waiting for message\n"
     ]
    }
   ],
   "source": [
    "# UDP_server\n",
    "\n",
    "import socket\n",
    "host = \"\"\n",
    "port = 5500\n",
    "udp_server = socket.socket(type=socket.SOCK_DGRAM)\n",
    "udp_server.bind((host,port))\n",
    "\n",
    "while True :\n",
    "    print(\"waiting for message\")\n",
    "    data,addr = udp_server.recvfrom(1024)\n",
    "    print(\"recieved data : \", data.decode(),\" from \",addr)\n",
    "    msg = input(\"enter response : \")\n",
    "    udp_server.sendto(msg.encode(),addr)\n",
    "    \n",
    "udp_server.close()"
   ]
  },
  {
   "cell_type": "code",
   "execution_count": null,
   "metadata": {},
   "outputs": [],
   "source": []
  }
 ],
 "metadata": {
  "kernelspec": {
   "display_name": "Python 3",
   "language": "python",
   "name": "python3"
  },
  "language_info": {
   "codemirror_mode": {
    "name": "ipython",
    "version": 3
   },
   "file_extension": ".py",
   "mimetype": "text/x-python",
   "name": "python",
   "nbconvert_exporter": "python",
   "pygments_lexer": "ipython3",
   "version": "3.8.5"
  }
 },
 "nbformat": 4,
 "nbformat_minor": 4
}
