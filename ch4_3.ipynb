{
 "cells": [
  {
   "cell_type": "code",
   "execution_count": 9,
   "metadata": {},
   "outputs": [
    {
     "name": "stdout",
     "output_type": "stream",
     "text": [
      "   Temp  Pressure\n",
      "0     0    0.0002\n",
      "1    20    0.0012\n",
      "2    40    0.0060\n",
      "3    60    0.0300\n",
      "4    80    0.0900\n",
      "5   100    0.2700\n"
     ]
    },
    {
     "data": {
      "image/png": "[encoded data removed]",
      "text/plain": [
       "<Figure size 432x288 with 1 Axes>"
      ]
     },
     "metadata": {
      "needs_background": "light"
     },
     "output_type": "display_data"
    }
   ],
   "source": [
    "## polynomial regression\n",
    "\n",
    "import pandas as pd\n",
    "\n",
    "df = pd.DataFrame({'Temp':[0,20,40,60,80,100], 'Pressure':[0.0002,0.0012,0.0060,0.0300,0.0900,0.2700]})\n",
    "print(df)\n",
    "\n",
    "x = df.iloc[:,0:1]\n",
    "y = df.iloc[:,-1]\n",
    "\n",
    "from sklearn.preprocessing import PolynomialFeatures\n",
    "from sklearn.linear_model import LinearRegression\n",
    "\n",
    "Poly = PolynomialFeatures(degree=3)\n",
    "model_poly = Poly.fit_transform(x)\n",
    "\n",
    "lr = LinearRegression()\n",
    "lr.fit(model_poly,y)\n",
    "\n",
    "import matplotlib.pyplot as plt\n",
    "\n",
    "plt.scatter(x,y)\n",
    "plt.plot(x,lr.predict(model_poly))\n",
    "plt.show()"
   ]
  },
  {
   "cell_type": "code",
   "execution_count": 10,
   "metadata": {},
   "outputs": [
    {
     "data": {
      "text/plain": [
       "array([0.13649333])"
      ]
     },
     "execution_count": 10,
     "metadata": {},
     "output_type": "execute_result"
    }
   ],
   "source": [
    "lr = LinearRegression()\n",
    "lr.fit(x,y)\n",
    "x_t = [[80]]\n",
    "lr.predict(x_t)"
   ]
  },
  {
   "cell_type": "code",
   "execution_count": 11,
   "metadata": {},
   "outputs": [
    {
     "data": {
      "text/plain": [
       "array([0.09865556])"
      ]
     },
     "execution_count": 11,
     "metadata": {},
     "output_type": "execute_result"
    }
   ],
   "source": [
    "poly = PolynomialFeatures(degree=3)\n",
    "lin = LinearRegression()\n",
    "model_poly = poly.fit_transform(x)\n",
    "lin.fit(model_poly,y)\n",
    "lin.predict(poly.fit_transform(x_t))"
   ]
  },
  {
   "cell_type": "code",
   "execution_count": 17,
   "metadata": {},
   "outputs": [
    {
     "name": "stdout",
     "output_type": "stream",
     "text": [
      "     Age  Present_Price  Kms_Driven  Owner  Fuel_Type_Diesel  \\\n",
      "0     11           5.59       27000      0                 0   \n",
      "1     12           9.54       43000      0                 1   \n",
      "2      8           9.85        6900      0                 0   \n",
      "3     14           4.15        5200      0                 0   \n",
      "4     11           6.87       42450      0                 1   \n",
      "..   ...            ...         ...    ...               ...   \n",
      "296    9          11.60       33988      0                 1   \n",
      "297   10           5.90       60000      0                 0   \n",
      "298   16          11.00       87934      0                 0   \n",
      "299    8          12.50        9000      0                 1   \n",
      "300    9           5.90        5464      0                 0   \n",
      "\n",
      "     Fuel_Type_Petrol  Seller_Type_Individual  Transmission_Manual  \n",
      "0                   1                       0                    1  \n",
      "1                   0                       0                    1  \n",
      "2                   1                       0                    1  \n",
      "3                   1                       0                    1  \n",
      "4                   0                       0                    1  \n",
      "..                ...                     ...                  ...  \n",
      "296                 0                       0                    1  \n",
      "297                 1                       0                    1  \n",
      "298                 1                       0                    1  \n",
      "299                 0                       0                    1  \n",
      "300                 1                       0                    1  \n",
      "\n",
      "[301 rows x 8 columns]\n",
      "MSE= 0.31088946007772145\n",
      "r2= 0.987068497460641\n"
     ]
    }
   ],
   "source": [
    "import pandas as pd\n",
    "from sklearn.model_selection import train_test_split\n",
    "\n",
    "df = pd.read_csv('car data.csv')\n",
    "df['Age'] = 2025 - df['Year']\n",
    "x = df[['Age','Present_Price','Kms_Driven','Fuel_Type','Seller_Type','Transmission','Owner']]\n",
    "y = df['Selling_Price']\n",
    "x = pd.get_dummies(x, drop_first=True)\n",
    "print(x)\n",
    "\n",
    "x_train, x_test, y_train, y_test = train_test_split(x,y, test_size=0.2, random_state=10)\n",
    "\n",
    "from sklearn.linear_model import LinearRegression\n",
    "from sklearn.preprocessing import PolynomialFeatures\n",
    "\n",
    "Poly = PolynomialFeatures(degree=3)\n",
    "\n",
    "x_train_poly = poly.fit_transform(x_train)\n",
    "x_test_poly = poly.fit_transform(x_test)\n",
    "\n",
    "lr = LinearRegression()\n",
    "lr.fit(x_train_poly,y_train)\n",
    "\n",
    "y_train_pred = lr.predict(x_train_poly)\n",
    "y_test_pred = lr.predict(x_test_poly)\n",
    "\n",
    "from sklearn.metrics import mean_squared_error, r2_score\n",
    "\n",
    "mse_train = mean_squared_error(y_train, y_train_pred)\n",
    "r2_train = r2_score(y_train, y_train_pred)\n",
    "print(\"MSE=\",mse_train)\n",
    "print(\"r2=\",r2_train)"
   ]
  },
  {
   "cell_type": "code",
   "execution_count": 36,
   "metadata": {},
   "outputs": [
    {
     "name": "stdout",
     "output_type": "stream",
     "text": [
      "(205, 63)\n",
      "mse= 0.029917090222789423\n",
      "r2_score= 0.89343310536614\n"
     ]
    }
   ],
   "source": [
    "import pandas as pd\n",
    "import numpy as np\n",
    "from sklearn.linear_model import LinearRegression\n",
    "from sklearn.model_selection import train_test_split\n",
    "from sklearn.metrics import mean_squared_error, r2_score\n",
    "\n",
    "df = pd.read_csv(\"CarPrice_Assignment.csv\")\n",
    "df.corr()\n",
    "\n",
    "scale_col = [['wheelbase','carlength','carwidth','carheight','curbweight','enginesize','boreratio','stroke','compressionratio','horsepower','peakrpm','citympg','highwaympg','price']]\n",
    "\n",
    "for c in scale_col:\n",
    "    df[c] = np.log(df[c])\n",
    "    \n",
    "company_names = []\n",
    "\n",
    "for car_name in df['CarName']:\n",
    "    company_name = car_name.split(' ')[0]\n",
    "    company_names.append(company_name)\n",
    "\n",
    "df['company'] = company_names\n",
    "df['company'].nunique()\n",
    "\n",
    "df.company.replace('porcshce','porsche',inplace=True)\n",
    "df.company.replace('maxda','mazda',inplace=True)\n",
    "df.company.replace('toyouta','toyota',inplace=True)\n",
    "df.company.replace('vokswagen','volkswagen',inplace=True)\n",
    "df.company.replace('vw','volkswagen',inplace=True)\n",
    "df.company.replace('Nissan','nissan',inplace=True)\n",
    "df['company'].unique()\n",
    "\n",
    "df.drop(columns=['car_ID','CarName','symboling'],inplace=True)\n",
    "categorical_col=['company','fueltype','aspiration','doornumber','carbody','drivewheel','enginelocation','enginetype','cylindernumber','fuelsystem']\n",
    "\n",
    "df = pd.get_dummies(df,prefix=categorical_col, columns=categorical_col, drop_first=True)\n",
    "\n",
    "x = df.drop(columns=['price'])\n",
    "y = df['price']\n",
    "print(x.shape)\n",
    "\n",
    "x_train, x_test, y_train, y_test = train_test_split(x,y, test_size=0.3, random_state=3)\n",
    "\n",
    "lr = LinearRegression()\n",
    "lr.fit(x_train,y_train)\n",
    "y_pred = lr.predict(x_test)\n",
    "print(\"mse=\",mean_squared_error(y_test,y_pred))\n",
    "print(\"r2_score=\",r2_score(y_test,y_pred))"
   ]
  },
  {
   "cell_type": "code",
   "execution_count": null,
   "metadata": {},
   "outputs": [],
   "source": []
  }
 ],
 "metadata": {
  "kernelspec": {
   "display_name": "Python 3",
   "language": "python",
   "name": "python3"
  },
  "language_info": {
   "codemirror_mode": {
    "name": "ipython",
    "version": 3
   },
   "file_extension": ".py",
   "mimetype": "text/x-python",
   "name": "python",
   "nbconvert_exporter": "python",
   "pygments_lexer": "ipython3",
   "version": "3.8.5"
  }
 },
 "nbformat": 4,
 "nbformat_minor": 4
}
