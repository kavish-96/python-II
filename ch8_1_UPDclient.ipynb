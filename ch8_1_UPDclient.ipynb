{
 "cells": [
  {
   "cell_type": "code",
   "execution_count": 3,
   "metadata": {},
   "outputs": [
    {
     "name": "stdout",
     "output_type": "stream",
     "text": [
      "--->hello\n",
      "ready to recv\n",
      "received =  kaam kar\n",
      "--->jati rehje\n",
      "ready to recv\n",
      "received =  chal chal ave\n",
      "--->\n"
     ]
    }
   ],
   "source": [
    "import socket\n",
    "\n",
    "host = \"localhost\"\n",
    "port = 5500\n",
    "udp_client = socket.socket(type = socket.SOCK_DGRAM)\n",
    "\n",
    "while True :\n",
    "    data = input(\"--->\")\n",
    "    \n",
    "    if not data:\n",
    "        break\n",
    "        \n",
    "    udp_client.sendto(data.encode(),(host,port))\n",
    "    print(\"ready to recv\")\n",
    "    data, addr = udp_client.recvfrom(1024)\n",
    "    if not data:\n",
    "        break\n",
    "        \n",
    "    print(\"received = \", data.decode())\n",
    "\n",
    "udp_client.close()"
   ]
  },
  {
   "cell_type": "code",
   "execution_count": 5,
   "metadata": {},
   "outputs": [
    {
     "name": "stdout",
     "output_type": "stream",
     "text": [
      "bb\n"
     ]
    }
   ],
   "source": [
    "# leetcode 5\n",
    "s = \"cbbd\"\n",
    "ans = \"\"\n",
    "\n",
    "for i in range(len(s)):\n",
    "    for j in range(1,len(s)):\n",
    "        temp = s[i:j+1]\n",
    "        if temp == temp[::-1] and len(temp)>len(ans):\n",
    "            ans = temp\n",
    "            \n",
    "print(ans)"
   ]
  },
  {
   "cell_type": "code",
   "execution_count": null,
   "metadata": {},
   "outputs": [],
   "source": []
  }
 ],
 "metadata": {
  "kernelspec": {
   "display_name": "Python 3",
   "language": "python",
   "name": "python3"
  },
  "language_info": {
   "codemirror_mode": {
    "name": "ipython",
    "version": 3
   },
   "file_extension": ".py",
   "mimetype": "text/x-python",
   "name": "python",
   "nbconvert_exporter": "python",
   "pygments_lexer": "ipython3",
   "version": "3.8.5"
  }
 },
 "nbformat": 4,
 "nbformat_minor": 4
}
