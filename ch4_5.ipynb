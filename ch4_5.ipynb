{
 "cells": [
  {
   "cell_type": "code",
   "execution_count": 6,
   "metadata": {},
   "outputs": [
    {
     "name": "stdout",
     "output_type": "stream",
     "text": [
      "[[72  3]\n",
      " [ 5 34]]\n",
      "accuracy: 0.9298245614035088\n",
      "error rate: 0.07017543859649122\n"
     ]
    }
   ],
   "source": [
    "import pandas as pd\n",
    "from sklearn.model_selection import train_test_split\n",
    "\n",
    "from sklearn.neighbors import KNeighborsClassifier\n",
    "from sklearn.metrics import confusion_matrix\n",
    "\n",
    "\n",
    "df = pd.read_csv(\"data_breast_cancer.csv\")\n",
    "\n",
    "x = df.iloc[:,2:32]\n",
    "y = df.iloc[:,1] # diagnosis\n",
    "\n",
    "x_train, x_test, y_train, y_test = train_test_split(x,y, test_size=0.2, random_state=10)\n",
    "\n",
    "nn = KNeighborsClassifier(n_neighbors=12)\n",
    "model = nn.fit(x_train, y_train)\n",
    "y_pred = model.predict(x_test)\n",
    "\n",
    "cm = confusion_matrix(y_test,y_pred)\n",
    "print(cm)\n",
    "\n",
    "TN = cm[0][0]\n",
    "FP = cm[0][1]\n",
    "FN = cm[1][0]\n",
    "TP = cm[1][1]\n",
    "\n",
    "acc = (TP+TN) / (TP+TN+FP+FN)\n",
    "print(\"accuracy:\",acc)\n",
    "print(\"error rate:\",1-acc)"
   ]
  },
  {
   "cell_type": "code",
   "execution_count": 7,
   "metadata": {},
   "outputs": [
    {
     "name": "stdout",
     "output_type": "stream",
     "text": [
      "best accuracy= 0.6046511627906976\n",
      "best k= 15\n",
      "[1]\n"
     ]
    }
   ],
   "source": [
    "# create knn model for Glass.csv\n",
    "# find best accuracy for different values of k=[8,10,12,15]\n",
    "# display best accuracy and best value of k\n",
    "# aslo predict type of glass for following data :\n",
    "# Ri=1.51748 | Na=12.86 | Mg=3.56 | Al=1.27 | Si=73.21 | K=0.54 | ca=8.38 | Ba=0 | Fe=0.17\n",
    "# take : test size=0.2, random state=15\n",
    "\n",
    "\n",
    "import pandas as pd\n",
    "from sklearn.model_selection import train_test_split\n",
    "from sklearn.neighbors import KNeighborsClassifier\n",
    "from sklearn.metrics import confusion_matrix\n",
    "from sklearn.metrics import accuracy_score\n",
    "\n",
    "\n",
    "df = pd.read_csv(\"glass.csv\")\n",
    "x = df.iloc[:,0:9]\n",
    "y = df.iloc[:,-1] # type\n",
    "x_train, x_test, y_train, y_test = train_test_split(x,y, test_size=0.2, random_state=15)\n",
    "\n",
    "k = [8,10,12,15]\n",
    "best_acc=0\n",
    "best_k=0\n",
    "\n",
    "for i in k:\n",
    "    nn = KNeighborsClassifier(n_neighbors=i)\n",
    "    nn.fit(x_train, y_train)\n",
    "    y_pred = nn.predict(x_test)\n",
    "    acc = accuracy_score(y_test,y_pred)\n",
    "    \n",
    "    if(acc>best_acc):\n",
    "        best_acc = acc\n",
    "        best_k = i\n",
    "        \n",
    "print(\"best accuracy=\",best_acc)\n",
    "print(\"best k=\",best_k)\n",
    "    \n",
    "predicted_type_glass = nn.predict([[1.51748,12.86,3.56,1.27,73.21,0.54,8.38,0,0.17]])\n",
    "print(predicted_type_glass)"
   ]
  },
  {
   "cell_type": "code",
   "execution_count": 14,
   "metadata": {},
   "outputs": [
    {
     "name": "stdout",
     "output_type": "stream",
     "text": [
      "r2 score = 0.9760588291456355\n",
      "mse = 67.35662210768808\n",
      "[-3.19586999  0.16715964  3.49505824  6.81466728 10.15282821]\n"
     ]
    }
   ],
   "source": [
    "# For x = np.arange(0, 30) and \n",
    "# y = np.array([3, 4, 5, 7, 10, 8, 9, 10, 10, 23, 27, 44, 50, 63, 67, 60, 62, 70, 75, 88, 81, 87, 95, 100, 108, \n",
    "# 135, 151, 160, 169, 179]), \n",
    "# apply polynomial regression using scikit learn library and calculate  R squared, coeficient and intercept. \n",
    "# Predict the y values for x = np.arange(5). (Don't split data for training/testing)\n",
    "\n",
    "x = np.arange(0, 30).reshape(-1,1)\n",
    "y = np.array([3, 4, 5, 7, 10, 8, 9, 10, 10, 23, 27, 44, 50, 63, 67, 60, 62, 70, 75, 88, 81, 87, 95, 100, 108, 135, 151, 160, 169, 179])\n",
    "\n",
    "import pandas as pd\n",
    "import numpy as np\n",
    "\n",
    "from sklearn.preprocessing import PolynomialFeatures\n",
    "from sklearn.linear_model import LinearRegression\n",
    "\n",
    "from sklearn.metrics import mean_squared_error, r2_score\n",
    "\n",
    "Poly = PolynomialFeatures(degree=3)\n",
    "model_poly = Poly.fit_transform(x)\n",
    "\n",
    "lr = LinearRegression()\n",
    "lr.fit(model_poly,y)\n",
    "\n",
    "y_pred = lr.predict(model_poly)\n",
    "\n",
    "print(\"r2 score =\",r2_score(y,y_pred))\n",
    "print(\"mse =\",mean_squared_error(y,y_pred))\n",
    "\n",
    "x1=np.arange(5).reshape(-1,1)\n",
    "print(lr.predict(Poly.fit_transform(x1)))"
   ]
  },
  {
   "cell_type": "code",
   "execution_count": null,
   "metadata": {},
   "outputs": [],
   "source": []
  }
 ],
 "metadata": {
  "kernelspec": {
   "display_name": "Python 3",
   "language": "python",
   "name": "python3"
  },
  "language_info": {
   "codemirror_mode": {
    "name": "ipython",
    "version": 3
   },
   "file_extension": ".py",
   "mimetype": "text/x-python",
   "name": "python",
   "nbconvert_exporter": "python",
   "pygments_lexer": "ipython3",
   "version": "3.8.5"
  }
 },
 "nbformat": 4,
 "nbformat_minor": 4
}
