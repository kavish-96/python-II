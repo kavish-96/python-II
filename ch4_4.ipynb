{
 "cells": [
  {
   "cell_type": "code",
   "execution_count": null,
   "metadata": {},
   "outputs": [],
   "source": []
  },
  {
   "cell_type": "code",
   "execution_count": 6,
   "metadata": {},
   "outputs": [
    {
     "data": {
      "image/png": "[encoded data removed]",
      "text/plain": [
       "<Figure size 432x288 with 1 Axes>"
      ]
     },
     "metadata": {
      "needs_background": "light"
     },
     "output_type": "display_data"
    },
    {
     "name": "stdout",
     "output_type": "stream",
     "text": [
      "0.9367011897445384\n",
      "9.327243445671261\n"
     ]
    }
   ],
   "source": [
    "# do polynomial regression for icecream_selling.csv, dont split data for training and testing\n",
    "# find R2_score, mse\n",
    "# create scatter plot for i/p vs o/p also do line plot in same graph for i/p vs predicted o/p (degree = 3)\n",
    "\n",
    "import pandas as pd\n",
    "\n",
    "df = pd.read_csv(\"Ice_cream selling data.csv\")\n",
    "\n",
    "x = df.iloc[:,0:1]\n",
    "y = df.iloc[:,-1]\n",
    "\n",
    "from sklearn.preprocessing import PolynomialFeatures\n",
    "from sklearn.linear_model import LinearRegression\n",
    "\n",
    "Poly = PolynomialFeatures(degree=3)\n",
    "model = Poly.fit_transform(x)\n",
    "\n",
    "lr = LinearRegression()\n",
    "lr.fit(model,y)\n",
    "\n",
    "import matplotlib.pyplot as plt\n",
    "\n",
    "plt.scatter(x,y)\n",
    "plt.plot(x,lr.predict(model))\n",
    "plt.show()\n",
    "\n",
    "from sklearn.metrics import mean_squared_error, r2_score\n",
    "\n",
    "y_pred = lr.predict(model)\n",
    "print(r2_score(y,y_pred))\n",
    "print(mean_squared_error(y,y_pred))"
   ]
  },
  {
   "cell_type": "code",
   "execution_count": 12,
   "metadata": {},
   "outputs": [
    {
     "name": "stdout",
     "output_type": "stream",
     "text": [
      "[[84 11]\n",
      " [44 15]]\n",
      "accuracy: 0.6428571428571429\n",
      "error rate: 0.3571428571428571\n"
     ]
    }
   ],
   "source": [
    "## KNN\n",
    "\n",
    "import pandas as pd\n",
    "from sklearn.model_selection import train_test_split\n",
    "\n",
    "df = pd.read_csv(\"diabetes.csv\")\n",
    "\n",
    "x = df.iloc[:,0:8]\n",
    "y = df.iloc[:,-1]\n",
    "\n",
    "x_train, x_test, y_train, y_test = train_test_split(x,y, test_size=0.2, random_state=10)\n",
    "\n",
    "from sklearn.neighbors import KNeighborsClassifier\n",
    "\n",
    "nn = KNeighborsClassifier(n_neighbors=22)\n",
    "model = nn.fit(x_train, y_train)\n",
    "y_pred = model.predict(x_test)\n",
    "\n",
    "from sklearn.metrics import confusion_matrix\n",
    "\n",
    "cm = confusion_matrix(y_test,y_pred)\n",
    "print(cm)\n",
    "\n",
    "TN = cm[0][0]\n",
    "FP = cm[0][1]\n",
    "FN = cm[1][0]\n",
    "TP = cm[1][1]\n",
    "\n",
    "acc = (TP+TN) / (TP+TN+FP+FN)\n",
    "print(\"accuracy:\",acc)\n",
    "print(\"error rate:\",1-acc)"
   ]
  },
  {
   "cell_type": "code",
   "execution_count": 13,
   "metadata": {},
   "outputs": [
    {
     "name": "stdout",
     "output_type": "stream",
     "text": [
      "sensitivity: 0.2542372881355932\n",
      "specificity: 0.8842105263157894\n"
     ]
    }
   ],
   "source": [
    "from sklearn.metrics import confusion_matrix\n",
    "\n",
    "sensitivity = TP / (TP+FN)\n",
    "# positive classes correctly specified\n",
    "\n",
    "specificity = TN / (TN+FP)\n",
    "# negative classes correctly specified\n",
    "\n",
    "print(\"sensitivity:\",sensitivity)\n",
    "print(\"specificity:\",specificity)\n",
    "\n",
    "# FP - Type 1 error\n",
    "# FN - Type 2 error"
   ]
  },
  {
   "cell_type": "code",
   "execution_count": 19,
   "metadata": {},
   "outputs": [
    {
     "name": "stdout",
     "output_type": "stream",
     "text": [
      "[[3 2]\n",
      " [0 9]]\n",
      "accuracy: 0.8571428571428571\n",
      "error rate: 0.1428571428571429\n"
     ]
    }
   ],
   "source": [
    "\n",
    "import pandas as pd\n",
    "from sklearn.model_selection import train_test_split\n",
    "\n",
    "df = pd.read_csv(\"PlayTennis.csv\")\n",
    "x = df.iloc[:,0:4]\n",
    "x = pd.get_dummies(x, drop_first=True)\n",
    "y = df.iloc[:,-1]\n",
    "\n",
    "from sklearn.neighbors import KNeighborsClassifier\n",
    "\n",
    "nn = KNeighborsClassifier(n_neighbors=3)\n",
    "model = nn.fit(x, y)\n",
    "y_pred = model.predict(x)\n",
    "\n",
    "from sklearn.metrics import confusion_matrix\n",
    "\n",
    "cm = confusion_matrix(y,y_pred)\n",
    "print(cm)\n",
    "\n",
    "TN = cm[0][0]\n",
    "FP = cm[0][1]\n",
    "FN = cm[1][0]\n",
    "TP = cm[1][1]\n",
    "\n",
    "acc = (TP+TN) / (TP+TN+FP+FN)\n",
    "print(\"accuracy:\",acc)\n",
    "print(\"error rate:\",1-acc)"
   ]
  },
  {
   "cell_type": "code",
   "execution_count": null,
   "metadata": {},
   "outputs": [],
   "source": []
  }
 ],
 "metadata": {
  "kernelspec": {
   "display_name": "Python 3",
   "language": "python",
   "name": "python3"
  },
  "language_info": {
   "codemirror_mode": {
    "name": "ipython",
    "version": 3
   },
   "file_extension": ".py",
   "mimetype": "text/x-python",
   "name": "python",
   "nbconvert_exporter": "python",
   "pygments_lexer": "ipython3",
   "version": "3.8.5"
  }
 },
 "nbformat": 4,
 "nbformat_minor": 4
}
